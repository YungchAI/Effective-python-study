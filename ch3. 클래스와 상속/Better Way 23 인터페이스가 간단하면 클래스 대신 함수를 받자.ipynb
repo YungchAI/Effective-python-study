{
 "cells": [
  {
   "cell_type": "markdown",
   "id": "af425166",
   "metadata": {},
   "source": [
    "작성일자: 2022-07-21 <br>\n",
    "작성자: 김동연"
   ]
  },
  {
   "cell_type": "code",
   "execution_count": 1,
   "id": "9011e078",
   "metadata": {},
   "outputs": [],
   "source": [
    "from collections import defaultdict"
   ]
  },
  {
   "cell_type": "code",
   "execution_count": 2,
   "id": "de766191",
   "metadata": {},
   "outputs": [
    {
     "name": "stdout",
     "output_type": "stream",
     "text": [
      "['Plato', 'Socreates', 'Aristotle', 'Archimedes']\n"
     ]
    }
   ],
   "source": [
    "names=['Socreates', 'Archimedes', \"Plato\", \"Aristotle\"]\n",
    "names.sort(key=lambda x : len(x))\n",
    "print(names)"
   ]
  },
  {
   "cell_type": "markdown",
   "id": "ef9e0b94",
   "metadata": {},
   "source": [
    "파이썬 API들 상당수는 함수를 parameter로 받아서 기능을 수행할 수 있다.<br>\n",
    "이 parameter들을 hook이라고 한다.<br>\n",
    "위의 코드에서는 람다 표현식을 parameter로 받아 리스트를 정렬한다.<br>\n",
    "파이썬은 first-class function을 갖추었기 때문에 후크로 함수를 사용할 수 있다."
   ]
  },
  {
   "cell_type": "markdown",
   "id": "ef4d8f90",
   "metadata": {},
   "source": [
    "<br>\n",
    "<br>\n",
    "collections 모듈의 defaultdict 클래스는 딕셔너리에 key와 value를 넣을 때 value를 따로 지정해주지 않아도 고정값을 제공한다.<br>\n",
    "첫번째 parameter로 hook을 제공하면 존재하지 않는 키에 대해 조회할 경우 hook의 return value를 value로 지정한다."
   ]
  },
  {
   "cell_type": "code",
   "execution_count": 4,
   "id": "1522444a",
   "metadata": {},
   "outputs": [
    {
     "name": "stdout",
     "output_type": "stream",
     "text": [
      "Before:  {'green': 12, 'blue': 3}\n",
      "Key added\n",
      "Key added\n",
      "After:  {'green': 12, 'blue': 20, 'red': 5, 'orange': 9}\n"
     ]
    }
   ],
   "source": [
    "def log_missing():\n",
    "    print('Key added')\n",
    "    return 0\n",
    "\n",
    "current = {'green': 12, 'blue': 3}\n",
    "increments = [\n",
    "    ('red', 5),\n",
    "    ('blue', 17),\n",
    "    ('orange', 9),\n",
    "]\n",
    "result = defaultdict(log_missing, current)\n",
    "print('Before: ', dict(result))\n",
    "for key, amount in increments:\n",
    "    result[key] += amount\n",
    "print('After: ', dict(result))"
   ]
  },
  {
   "cell_type": "markdown",
   "id": "80cb3029",
   "metadata": {},
   "source": [
    "생각한 것처럼 log_missing이 두 번 실행된 것을 확인할 수 있다.<br>\n",
    "<br>\n",
    "<br>\n",
    "만약 hook을 이용해서 찾을 수 없었던 key의 총 개수를 센다고 하면 어떤 방법을 사용할 수 있을까?<br>\n",
    "가장 대표적으로 헬퍼 함수를 사용할 수 있을 것이다."
   ]
  },
  {
   "cell_type": "code",
   "execution_count": 6,
   "id": "c9b22c7f",
   "metadata": {},
   "outputs": [],
   "source": [
    "def increment_with_report(current, increments):\n",
    "    added_count = 0\n",
    "    \n",
    "    def missing():\n",
    "        nonlocal added_count\n",
    "        added_count += 1\n",
    "        return 0\n",
    "    \n",
    "    result = defaultdict(missing, current)\n",
    "    for key, amount in increments:\n",
    "        result[key] += amount\n",
    "    \n",
    "    return result, added_count\n",
    "\n",
    "result, count = increment_with_report(current, increments)\n",
    "assert count == 2"
   ]
  },
  {
   "cell_type": "markdown",
   "id": "c79ad7e7",
   "metadata": {},
   "source": [
    "하지만 이 방법은 함수를 이해하기가 어렵다는 단점이 있다.<br>\n",
    "위의 함수를 보고 단시간에 defaultdict의 key의 개수를 센다는 것을 알기는 쉽지 않다.<br>\n",
    "클래스를 사용한다면 어떨까?"
   ]
  },
  {
   "cell_type": "code",
   "execution_count": 8,
   "id": "5a1b76bf",
   "metadata": {},
   "outputs": [],
   "source": [
    "class CountMissing(object):\n",
    "    def __init__(self):\n",
    "        self.added = 0\n",
    "        \n",
    "    def missing(self):\n",
    "        self.added += 1\n",
    "        return 0\n",
    "\n",
    "counter = CountMissing()\n",
    "result = defaultdict(counter.missing, current)\n",
    "\n",
    "for key, amount in increments:\n",
    "    result[key] += amount\n",
    "\n",
    "assert counter.added == 2"
   ]
  },
  {
   "cell_type": "markdown",
   "id": "9a1f9383",
   "metadata": {},
   "source": [
    "더 명확하게 이해를 할 수 있다.<br>\n",
    "하지만 클래스 코드만 보고는 이것이 무엇을 하기 위한 클래스인지는 이해하기 어렵다.<br>\n",
    "이런 상황을 위해 python에는 ```__call__```이라는 매서드를 정의해두었다.<br>\n",
    "이 메서드는 instance를 함수처럼 호출할 수 있게 한다."
   ]
  },
  {
   "cell_type": "code",
   "execution_count": null,
   "id": "6aa108d6",
   "metadata": {},
   "outputs": [],
   "source": [
    "class BetterCountMissing(object):\n",
    "    def __init__(self):\n",
    "        self.added = 0\n",
    "\n",
    "    def __call__(self):\n",
    "        self.added += 1\n",
    "        return 0\n",
    "    \n",
    "counter = BetterCountMissing()\n"
   ]
  }
 ],
 "metadata": {
  "kernelspec": {
   "display_name": "torch_book",
   "language": "python",
   "name": "torch_book"
  },
  "language_info": {
   "codemirror_mode": {
    "name": "ipython",
    "version": 3
   },
   "file_extension": ".py",
   "mimetype": "text/x-python",
   "name": "python",
   "nbconvert_exporter": "python",
   "pygments_lexer": "ipython3",
   "version": "3.9.12"
  }
 },
 "nbformat": 4,
 "nbformat_minor": 5
}
