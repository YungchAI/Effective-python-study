{
 "cells": [
  {
   "cell_type": "markdown",
   "id": "0612dc67",
   "metadata": {},
   "source": [
    "작성일자: 2022-08-01<br>\n",
    "작성자: 김동연"
   ]
  },
  {
   "cell_type": "markdown",
   "id": "c106427d",
   "metadata": {},
   "source": [
    "클래스의 다형성을 이해하기 위해서 MapReduce 구현을 살펴보자.<br>\n",
    "입력 데이터를 표현할 공통 클래스가 필요하다고 가정해보자."
   ]
  },
  {
   "cell_type": "code",
   "execution_count": 1,
   "id": "05e1bcb9",
   "metadata": {},
   "outputs": [],
   "source": [
    "class InputData(object):\n",
    "    def read(self):\n",
    "        raise NotImplementedError"
   ]
  },
  {
   "cell_type": "markdown",
   "id": "0137ef53",
   "metadata": {},
   "source": [
    "다음은 파일에서 데이터를 읽어오는 InputData의 서브클래스다."
   ]
  },
  {
   "cell_type": "code",
   "execution_count": 2,
   "id": "ff093cb1",
   "metadata": {},
   "outputs": [],
   "source": [
    "class PathInputData(InputData):\n",
    "    def __init__(self, path):\n",
    "        super().__init__()\n",
    "        self.path = path\n",
    "    \n",
    "    def read(self):\n",
    "        return open(self.path).read()"
   ]
  },
  {
   "cell_type": "markdown",
   "id": "bdf95aca",
   "metadata": {},
   "source": [
    "이런 서브클래스는 여러 종류가 있을 수 있고 각 서브 클래스는 데이터를 반환하는 표준 인터페이스 read를 구현한다.<br>\n",
    "입력 데이터를 처리하는 MapReduce 작업 클래스도 비슷한 추상 인터페이스를 작성한다."
   ]
  },
  {
   "cell_type": "code",
   "execution_count": 3,
   "id": "1c47b840",
   "metadata": {},
   "outputs": [],
   "source": [
    "class Worker(object):\n",
    "    def __init__(self, input_data):\n",
    "        self.input_data = input_data\n",
    "        self.result = None\n",
    "    \n",
    "    def map(self):\n",
    "        raise NotImplementedError\n",
    "    \n",
    "    def reduce(self, other):\n",
    "        raise NotImplementedError"
   ]
  },
  {
   "cell_type": "markdown",
   "id": "f230ff02",
   "metadata": {},
   "source": [
    "줄 바뀐 횟수를 세는 서브클래스"
   ]
  },
  {
   "cell_type": "code",
   "execution_count": 4,
   "id": "a6bb81e9",
   "metadata": {},
   "outputs": [],
   "source": [
    "class LineCountWorker(Worker):\n",
    "    def map(self):\n",
    "        data = self.input_data.read()\n",
    "        self.result = data.count('\\n')\n",
    "        \n",
    "    def reduce(self, other):\n",
    "        self.result += other.result"
   ]
  },
  {
   "cell_type": "markdown",
   "id": "f2c749f6",
   "metadata": {},
   "source": [
    "헬퍼 함수로 객체를 생성하여 각각의 서브클래스들을 연결"
   ]
  },
  {
   "cell_type": "code",
   "execution_count": 5,
   "id": "3ed3ab74",
   "metadata": {},
   "outputs": [],
   "source": [
    "def generate_inputs(data_dir):\n",
    "    for name in os.listdir(data_dir):\n",
    "        yield PathInputData(os.path.join(data_dir, name))\n",
    "        \n",
    "def create_workers(input_list):\n",
    "    workers = []\n",
    "    for input_data in input_list:\n",
    "        workers.append(LineCountWorker(input_data))\n",
    "    return workers\n",
    "\n",
    "def execute(workers):\n",
    "    threads = [Thread(target=w.map) for w in workers]\n",
    "    for thread in threads: thread.start()\n",
    "    for thread in threads: thread.join()\n",
    "        \n",
    "    first, rest = workers[0], workers[1:]\n",
    "    for worker in rest:\n",
    "        first.reduce(worker)\n",
    "    return first.result\n",
    "\n",
    "def mapreduce(data_dir):\n",
    "    inputs = genreate_inputs(data_dir)\n",
    "    workers = create_workers(inputs)\n",
    "    return execute(workers)"
   ]
  },
  {
   "cell_type": "markdown",
   "id": "8a427c35",
   "metadata": {},
   "source": [
    "하지만 위의 방법은 전혀 범용적이지 않은 mapreduce 함수를 생성한다.<br>\n",
    "다른 InputData나 Worker 서브클래스에는 새로운 generate_inputs, create_workers, mapreduce 함수들을 다시 작성해야 한다.<br>\n",
    "<br>\n",
    "파이썬은 단일 생성자 매서드 ```__init__```만을 허용하기 때문에 모든 InputData 서브클래스가 호환되는 생성자를 갖출수는 없다.<br>\n",
    "@classmethod 다형성을 이용하면 문제를 해결할 수 있다.<br>\n",
    "<br>\n",
    "새로운 범용 클래스를 작성한다. generate_inputs 매서드로 다형성을 가질 수 있다."
   ]
  },
  {
   "cell_type": "code",
   "execution_count": 6,
   "id": "4f9d944d",
   "metadata": {},
   "outputs": [],
   "source": [
    "class GenericInputData(object):\n",
    "    def read(self):\n",
    "        raise NotImplementedError\n",
    "    \n",
    "    \n",
    "    @classmethod\n",
    "    def generate_inputs(cls, config):\n",
    "        raise NotImplementedError"
   ]
  },
  {
   "cell_type": "code",
   "execution_count": 7,
   "id": "73e4838f",
   "metadata": {},
   "outputs": [],
   "source": [
    "class PathInputData(GenericInputData):\n",
    "    # ...\n",
    "    def read(self):\n",
    "        return open(self.path).read()\n",
    "    \n",
    "    @classmethod\n",
    "    def generate_inputs(cls, config):\n",
    "        data_dir = config['data_dir']\n",
    "        for name in os.listdir(data_dir):\n",
    "            yield cls(os.path.join(data_dir, name))"
   ]
  },
  {
   "cell_type": "markdown",
   "id": "efa83572",
   "metadata": {},
   "source": [
    "마찬가지로 create_workers 메서드로 다형성을 가질 수 있다. 또한 cls(input_data)를 통해 구현한 서브클래스의 인스턴스를 생성한다.<br>\n",
    "또한 input_class.generate_inputs의 호출로 더 범용적인 구현이 가능하다. 이 호출이 바로 클래스 다형성이다."
   ]
  },
  {
   "cell_type": "code",
   "execution_count": 8,
   "id": "e9d8af3c",
   "metadata": {},
   "outputs": [],
   "source": [
    "class GenericWorker(object):\n",
    "    #...\n",
    "    def map(self):\n",
    "        raise NotImplementedError\n",
    "    \n",
    "    def reduce(self, other):\n",
    "        raise NotImplementedError\n",
    "    \n",
    "    @classmethod\n",
    "    def create_workers(cls, input_class, config):\n",
    "        workers = []\n",
    "        for input_data in input_class.generate_inputs(config):\n",
    "            workers.append(cls(input_data))\n",
    "        return workers"
   ]
  },
  {
   "cell_type": "code",
   "execution_count": 9,
   "id": "b2094798",
   "metadata": {},
   "outputs": [],
   "source": [
    "class LineCountWorker(GenericWorker):\n",
    "    #...\n",
    "    def reduce(self, other):\n",
    "        raise NotImplementedError"
   ]
  },
  {
   "cell_type": "markdown",
   "id": "19b50666",
   "metadata": {},
   "source": [
    "위의 클래스를 사용하여 더 범용적인 mapreduce 함수를 작성할 수 있다."
   ]
  },
  {
   "cell_type": "code",
   "execution_count": null,
   "id": "93150d80",
   "metadata": {},
   "outputs": [],
   "source": [
    "def mapreduce(worker_class, input_class, config):\n",
    "    workers = worker_class.create_workers(input_class, config)\n",
    "    return execute(workers)\n",
    "\n",
    "with TemporaryDirectory() as tmpdir:\n",
    "    write_test_fils(tmpdir)\n",
    "    config = {'data_dir' : tmpdir}\n",
    "    result = mapreduce(LineCountWorker, PathInputData, config)"
   ]
  }
 ],
 "metadata": {
  "kernelspec": {
   "display_name": "torch_book",
   "language": "python",
   "name": "torch_book"
  },
  "language_info": {
   "codemirror_mode": {
    "name": "ipython",
    "version": 3
   },
   "file_extension": ".py",
   "mimetype": "text/x-python",
   "name": "python",
   "nbconvert_exporter": "python",
   "pygments_lexer": "ipython3",
   "version": "3.9.12"
  }
 },
 "nbformat": 4,
 "nbformat_minor": 5
}
