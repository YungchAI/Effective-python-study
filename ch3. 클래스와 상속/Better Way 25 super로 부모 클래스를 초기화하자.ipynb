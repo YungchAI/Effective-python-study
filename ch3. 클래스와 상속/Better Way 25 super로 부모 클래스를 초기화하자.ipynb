{
 "cells": [
  {
   "cell_type": "markdown",
   "id": "11d62969",
   "metadata": {},
   "source": [
    "작성일자: 2022-08-04<br>\n",
    "작성자: 정예준"
   ]
  },
  {
   "cell_type": "markdown",
   "id": "ccb3b2e2",
   "metadata": {},
   "source": [
    "기존 방식: 자식 클래스에서 부모 클래스의 ```__init__``` 메서드를 호출하는 방법으로 부모 클래스를 초기화"
   ]
  },
  {
   "cell_type": "code",
   "execution_count": 1,
   "id": "71db6473",
   "metadata": {},
   "outputs": [],
   "source": [
    "class MyBaseClass(object):\n",
    "    def __init__(self, value):\n",
    "        self.value = value\n",
    "    \n",
    "class MyChildClass(MyBaseClass):\n",
    "    def __init__(self):\n",
    "        MyBaseClass.__init__(self, 5)"
   ]
  },
  {
   "cell_type": "markdown",
   "id": "15f7063c",
   "metadata": {},
   "source": [
    "직접 슈퍼클래스의 ```__init__```을 호출하는 행위는 문제를 발생시킴<br>\n",
    "class문의 argument 순서대로 불러오는 것을 원하는데 그렇지 못한 것을 볼 수 있음<br>"
   ]
  },
  {
   "cell_type": "code",
   "execution_count": 2,
   "id": "61635e7d",
   "metadata": {},
   "outputs": [],
   "source": [
    "class TimesTwo(object):\n",
    "    def __init__(self):\n",
    "        self.value *= 2\n",
    "    \n",
    "class PlusFive(object):\n",
    "    def __init__(self):\n",
    "        self.value += 5"
   ]
  },
  {
   "cell_type": "markdown",
   "id": "4faf0653",
   "metadata": {},
   "source": [
    "애초에 ```__init__```아래에 호출 순서를 똑같이 적어 놓았는데 당연히 똑같은 결과가 나오는 거 아닌가 싶음<br>\n",
    "클래스를 사용할 떄 arguments의 순서대로 호출하는 것을 원하는 것 같다"
   ]
  },
  {
   "cell_type": "code",
   "execution_count": 3,
   "id": "3d26894f",
   "metadata": {},
   "outputs": [
    {
     "name": "stdout",
     "output_type": "stream",
     "text": [
      "15\n",
      "15\n"
     ]
    }
   ],
   "source": [
    "class OneWay(MyBaseClass, TimesTwo, PlusFive):\n",
    "    def __init__(self, value):\n",
    "        MyBaseClass.__init__(self, value)\n",
    "        TimesTwo.__init__(self)\n",
    "        PlusFive.__init__(self)\n",
    "\n",
    "foo = OneWay(5)\n",
    "print(foo.value)\n",
    "\n",
    "class AnotherWay(MyBaseClass, PlusFive, TimesTwo):\n",
    "    def __init__(self, value):\n",
    "        MyBaseClass.__init__(self, value)\n",
    "        TimesTwo.__init__(self)\n",
    "        PlusFive.__init__(self)\n",
    "        \n",
    "bar = AnotherWay(5)\n",
    "print(bar.value)"
   ]
  },
  {
   "cell_type": "markdown",
   "id": "8753e232",
   "metadata": {},
   "source": [
    "또 다른 문제 : 다이아몬드 상속<br>\n",
    "서브클래스가 계층 구조에서 같은 슈퍼클래스를 둔 서로 다른 두 클래스에서 상속받을때 발생<br>\n",
    "공통 슈퍼클래스의 ```__init__```메서드를 여러 번 실행하게 해서 예상치 못한 동작을 일으킴<br>\n",
    "MyBaseClass를 상속받은 자식 클래스 2개를 정의"
   ]
  },
  {
   "cell_type": "code",
   "execution_count": 7,
   "id": "e5da63d5",
   "metadata": {},
   "outputs": [],
   "source": [
    "class TimesFive(MyBaseClass):\n",
    "    def __init__(self, value):\n",
    "        MyBaseClass.__init__(self, value)\n",
    "        self.value *= 5\n",
    "    \n",
    "class PlusTwo(MyBaseClass):\n",
    "    def __init__(self, value):\n",
    "        MyBaseClass.__init__(self, value)\n",
    "        self.value += 2"
   ]
  },
  {
   "cell_type": "markdown",
   "id": "f2abf8bd",
   "metadata": {},
   "source": [
    "두 클래스 모두를 상속받는 자식 클래스를 정의하여 MyBaseClass를 다이아몬드 꼭대기로 만듬"
   ]
  },
  {
   "cell_type": "code",
   "execution_count": 8,
   "id": "7993bd57",
   "metadata": {},
   "outputs": [],
   "source": [
    "class ThisWay(TimesFive, PlusTwo):\n",
    "    def __init__(self, value):\n",
    "        TimesFive.__init__(self, value)\n",
    "        PlusTwo.__init__(self, value)"
   ]
  },
  {
   "cell_type": "code",
   "execution_count": 9,
   "id": "6e89fbce",
   "metadata": {},
   "outputs": [
    {
     "name": "stdout",
     "output_type": "stream",
     "text": [
      "7\n"
     ]
    }
   ],
   "source": [
    "foo = ThisWay(5)\n",
    "print(foo.value)"
   ]
  },
  {
   "cell_type": "markdown",
   "id": "76e18fd7",
   "metadata": {},
   "source": [
    "### 파이썬 2.2에서의 해결방법: 내장함수 ```super```와 ```MRO(매서드 해석 순서, Method Resolution Order)```<br>\n",
    "MRO는 어떤 슈퍼클래스로부터 초기화하는지를 정하고 다이아몬드 계층 구조에 있는 공통 슈퍼클래스를 단 한 번만 실행하게 함<br>\n",
    "같은 다이아몬드 클래스를 super를 이용해 부모 클래스를 초기화"
   ]
  },
  {
   "cell_type": "code",
   "execution_count": 10,
   "id": "24c0242a",
   "metadata": {},
   "outputs": [],
   "source": [
    "# 파이썬 2\n",
    "class TimesFiveCorrect(MyBaseClass):\n",
    "    def __init__(self, value):\n",
    "        super(TimesFiveCorrect, self).__init__(value)\n",
    "        self.value *= 5\n",
    "        \n",
    "class PlusTwoCorrect(MyBaseClass):\n",
    "    def __init__(self, value):\n",
    "        super(PlusTwoCorrect, self).__init__(value)\n",
    "        self.value += 2"
   ]
  },
  {
   "cell_type": "markdown",
   "id": "2cfa3961",
   "metadata": {},
   "source": [
    "다이아몬드의 꼭대기인 ```MyBaseClass.__init__```이 한번만 실행됨<br>\n",
    "다른 부모 클래스는 class문으로 지정한 순서대로 실행됨"
   ]
  },
  {
   "cell_type": "code",
   "execution_count": 12,
   "id": "503723b0",
   "metadata": {},
   "outputs": [
    {
     "name": "stdout",
     "output_type": "stream",
     "text": [
      "35\n"
     ]
    }
   ],
   "source": [
    "# 파이썬 2\n",
    "class GoodWay(TimesFiveCorrect, PlusTwoCorrect):\n",
    "    def __init__(self, value):\n",
    "        super(GoodWay, self).__init__(value)\n",
    "\n",
    "foo = GoodWay(5)\n",
    "print(foo.value)"
   ]
  },
  {
   "cell_type": "markdown",
   "id": "7b4f87ee",
   "metadata": {},
   "source": [
    "보아하니 class 문의 argument 역순으로 실행하는 듯 함<br>\n",
    "순서를 확인해보기 위해 mro 정의 순서를 보자"
   ]
  },
  {
   "cell_type": "code",
   "execution_count": 15,
   "id": "a103d208",
   "metadata": {},
   "outputs": [
    {
     "name": "stdout",
     "output_type": "stream",
     "text": [
      "[<class '__main__.GoodWay'>,\n",
      " <class '__main__.TimesFiveCorrect'>,\n",
      " <class '__main__.PlusTwoCorrect'>,\n",
      " <class '__main__.MyBaseClass'>,\n",
      " <class 'object'>]\n"
     ]
    }
   ],
   "source": [
    "from pprint import pprint\n",
    "pprint(GoodWay.mro())"
   ]
  },
  {
   "cell_type": "code",
   "execution_count": 18,
   "id": "2a608f5a",
   "metadata": {},
   "outputs": [
    {
     "name": "stdout",
     "output_type": "stream",
     "text": [
      "27\n",
      "[<class '__main__.GoodWay1'>,\n",
      " <class '__main__.PlusTwoCorrect'>,\n",
      " <class '__main__.TimesFiveCorrect'>,\n",
      " <class '__main__.MyBaseClass'>,\n",
      " <class 'object'>]\n"
     ]
    }
   ],
   "source": [
    "# 파이썬 2\n",
    "class GoodWay1(PlusTwoCorrect, TimesFiveCorrect):\n",
    "    def __init__(self, value):\n",
    "        super(GoodWay1, self).__init__(value)\n",
    "\n",
    "foo = GoodWay1(5)\n",
    "print(foo.value)\n",
    "\n",
    "pprint(GoodWay1.mro())"
   ]
  },
  {
   "cell_type": "markdown",
   "id": "28db22b8",
   "metadata": {},
   "source": [
    "class문의 argument 역순으로 실행하는 것을 알 수 있음<br>\n",
    "파이썬 3에서는 super를 호출할 때 클래스의 이름을 지정하지 않아도 됨(```__class__```와 self를 인수로 넘기기 때문)<br>\n",
    "super는 명확하고 간결하며 항상 제대로 동작하기 떄문에 언제나 사용해야 함"
   ]
  },
  {
   "cell_type": "code",
   "execution_count": 19,
   "id": "96af69a5",
   "metadata": {},
   "outputs": [
    {
     "name": "stdout",
     "output_type": "stream",
     "text": [
      "True\n"
     ]
    }
   ],
   "source": [
    "class Explicit(MyBaseClass):\n",
    "    def __init__(self, value):\n",
    "        super(Explicit, self).__init__(value * 2)\n",
    "        \n",
    "class Implicit(MyBaseClass):\n",
    "    def __init__(self, value):\n",
    "        super().__init__(value * 2)\n",
    "        \n",
    "print(Explicit(10).value == Implicit(10).value)"
   ]
  }
 ],
 "metadata": {
  "kernelspec": {
   "display_name": "torch_book",
   "language": "python",
   "name": "torch_book"
  },
  "language_info": {
   "codemirror_mode": {
    "name": "ipython",
    "version": 3
   },
   "file_extension": ".py",
   "mimetype": "text/x-python",
   "name": "python",
   "nbconvert_exporter": "python",
   "pygments_lexer": "ipython3",
   "version": "3.7.13"
  }
 },
 "nbformat": 4,
 "nbformat_minor": 5
}
