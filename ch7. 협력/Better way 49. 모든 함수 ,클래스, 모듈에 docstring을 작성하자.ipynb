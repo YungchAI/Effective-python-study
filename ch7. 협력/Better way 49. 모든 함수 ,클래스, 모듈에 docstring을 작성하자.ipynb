{
 "cells": [
  {
   "cell_type": "markdown",
   "id": "6bbeccc9",
   "metadata": {},
   "source": [
    "작성일자: 2022-07-21<br>\n",
    "작성자: 정예준"
   ]
  },
  {
   "cell_type": "markdown",
   "id": "d9b6e000",
   "metadata": {},
   "source": [
    "docstring : 함수, 클래스, 모듈 등을 설명하는 문자열<br>\n",
    "사용방법 : 함수, 클래스, 모듈 맨 앞에 \"\"\" \"\"\" or ''' ''' 사이에 원하는 설명을 추가"
   ]
  },
  {
   "cell_type": "code",
   "execution_count": 1,
   "id": "5965ec3d",
   "metadata": {},
   "outputs": [],
   "source": [
    "def even(n):\n",
    "    \"\"\"Return True if n is even, False if n is odd\"\"\"\n",
    "    return n % 2 == 0"
   ]
  },
  {
   "cell_type": "code",
   "execution_count": 2,
   "id": "5277e33a",
   "metadata": {},
   "outputs": [
    {
     "name": "stdout",
     "output_type": "stream",
     "text": [
      "False\n",
      "True\n"
     ]
    }
   ],
   "source": [
    "print(even(3))\n",
    "print(even(4))"
   ]
  },
  {
   "cell_type": "markdown",
   "id": "086b4511",
   "metadata": {},
   "source": [
    "```__doc__``` or help() 함수를 이용해 호출 가능"
   ]
  },
  {
   "cell_type": "code",
   "execution_count": 3,
   "id": "9c9dc684",
   "metadata": {},
   "outputs": [
    {
     "name": "stdout",
     "output_type": "stream",
     "text": [
      "'Return True if n is even, False if n is odd'\n"
     ]
    }
   ],
   "source": [
    "print(repr(even.__doc__)) # 문자열 객체 반환"
   ]
  },
  {
   "cell_type": "code",
   "execution_count": 4,
   "id": "9b03cb6e",
   "metadata": {},
   "outputs": [
    {
     "name": "stdout",
     "output_type": "stream",
     "text": [
      "<class 'str'>\n",
      "Return True if n is even, False if n is odd\n"
     ]
    }
   ],
   "source": [
    "print(type(even.__doc__))\n",
    "print(even.__doc__)"
   ]
  },
  {
   "cell_type": "code",
   "execution_count": 5,
   "id": "440f64f3",
   "metadata": {},
   "outputs": [
    {
     "name": "stdout",
     "output_type": "stream",
     "text": [
      "Help on function even in module __main__:\n",
      "\n",
      "even(n)\n",
      "    Return True if n is even, False if n is odd\n",
      "\n"
     ]
    }
   ],
   "source": [
    "help(even)"
   ]
  },
  {
   "cell_type": "markdown",
   "id": "8bfd825b",
   "metadata": {},
   "source": [
    "모듈 docstring의 첫 줄 : 모듈의 목적을 기술하는 한 문장<br>\n",
    "그 이후 문단 : 모듈의 동작을 자세히 설명(ex. 모듈에 포함된 함수들)"
   ]
  },
  {
   "cell_type": "code",
   "execution_count": 6,
   "id": "231de7b1",
   "metadata": {},
   "outputs": [
    {
     "data": {
      "text/plain": [
       "'Library for testing docstrings.\\n\\nTesting docstring is so interesting!\\nThis module provides how to test docstring, etc\\n\\nAvailable functions:\\n - even : Determine whether a number is even or not.\\n - ...\\n'"
      ]
     },
     "execution_count": 6,
     "metadata": {},
     "output_type": "execute_result"
    }
   ],
   "source": [
    "# untitle.py\n",
    "# !/usr/bin/env python3\n",
    "\n",
    "\"\"\"Library for testing docstrings.\n",
    "\n",
    "Testing docstring is so interesting!\n",
    "This module provides how to test docstring, etc\n",
    "\n",
    "Available functions:\n",
    " - even : Determine whether a number is even or not.\n",
    " - ...\n",
    "\"\"\""
   ]
  },
  {
   "cell_type": "markdown",
   "id": "ab557c41",
   "metadata": {},
   "source": [
    "클래스 docstring의 첫 줄 : 클래스의 목적을 기술하는 한 문장<br>\n",
    "그 이후 문단 : 클래스의 동작을 자세히 설명(ex. 클래스에 포함된 매서드들, 중요한 공개 속성들, 서브클래스들과 상호작용하는 방법 등)"
   ]
  },
  {
   "cell_type": "code",
   "execution_count": 7,
   "id": "963b07a1",
   "metadata": {},
   "outputs": [],
   "source": [
    "class Person(object):\n",
    "    \"\"\"Represents a person in the world.\n",
    "    \n",
    "    Subclasses may overrides 'age', 'gender' method to provide a person's age, gender, etc.\n",
    "    '''\n",
    "    \n",
    "    Public attributes:\n",
    "    - gener : ~~~\n",
    "    - age : ~~~\n",
    "    \"\"\""
   ]
  },
  {
   "cell_type": "code",
   "execution_count": 8,
   "id": "cf3f539d",
   "metadata": {},
   "outputs": [
    {
     "name": "stdout",
     "output_type": "stream",
     "text": [
      "Help on Person in module __main__ object:\n",
      "\n",
      "class Person(builtins.object)\n",
      " |  Represents a person in the world.\n",
      " |  \n",
      " |  Subclasses may overrides 'age', 'gender' method to provide a person's age, gender, etc.\n",
      " |  '''\n",
      " |  \n",
      " |  Public attributes:\n",
      " |  - gener : ~~~\n",
      " |  - age : ~~~\n",
      " |  \n",
      " |  Data descriptors defined here:\n",
      " |  \n",
      " |  __dict__\n",
      " |      dictionary for instance variables (if defined)\n",
      " |  \n",
      " |  __weakref__\n",
      " |      list of weak references to the object (if defined)\n",
      "\n"
     ]
    }
   ],
   "source": [
    "p1 = Person()\n",
    "help(p1)"
   ]
  },
  {
   "cell_type": "markdown",
   "id": "35ab904d",
   "metadata": {},
   "source": [
    "함수 docstring의 첫 줄 : 함수가 수행하는 일을 한 문장으로 <br>\n",
    "그 이후 문단 : 함수의 특별한 동작이나 인수에 대해 설명, 반환값 언급"
   ]
  },
  {
   "cell_type": "code",
   "execution_count": 9,
   "id": "4e516c56",
   "metadata": {},
   "outputs": [],
   "source": [
    "def find_anagrams(word, dictionary):\n",
    "    \"\"\"Find all anagrams for a word\n",
    "    \n",
    "    This function only runs as fast as the test for membership in the 'dictionary' container.\n",
    "    It will be slow if the dictionary is a list and fast if it's a set\n",
    "    \n",
    "    Args:\n",
    "        word: String of the target word\n",
    "        dictionary: Container with all strings that are known to be actual words.\n",
    "        \n",
    "    Returns:\n",
    "        List of anagrams that were found. Empty if none were found.\n",
    "    \"\"\""
   ]
  },
  {
   "cell_type": "markdown",
   "id": "fe2acee0",
   "metadata": {},
   "source": [
    "- 함수가 인수를 받지 않고 간단히 값을 반환할 때는 한 줄 설명으로 충분\n",
    "- 함수가 반환값이 "
   ]
  }
 ],
 "metadata": {
  "kernelspec": {
   "display_name": "torch_book",
   "language": "python",
   "name": "torch_book"
  },
  "language_info": {
   "codemirror_mode": {
    "name": "ipython",
    "version": 3
   },
   "file_extension": ".py",
   "mimetype": "text/x-python",
   "name": "python",
   "nbconvert_exporter": "python",
   "pygments_lexer": "ipython3",
   "version": "3.9.12"
  }
 },
 "nbformat": 4,
 "nbformat_minor": 5
}
