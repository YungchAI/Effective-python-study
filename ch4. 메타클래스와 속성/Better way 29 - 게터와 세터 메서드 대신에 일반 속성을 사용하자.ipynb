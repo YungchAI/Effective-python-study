{
 "cells": [
  {
   "cell_type": "markdown",
   "id": "f31b80e6",
   "metadata": {},
   "source": [
    "작성일자: 2022-07-20<br>\n",
    "작성자: 정예준"
   ]
  },
  {
   "cell_type": "code",
   "execution_count": 3,
   "id": "39f8213c",
   "metadata": {},
   "outputs": [],
   "source": [
    "class TooOldJungtongsil(object): # 삼류\n",
    "    def __init__(self, total):\n",
    "        self.total = total"
   ]
  },
  {
   "cell_type": "code",
   "execution_count": 4,
   "id": "a461865e",
   "metadata": {},
   "outputs": [
    {
     "name": "stdout",
     "output_type": "stream",
     "text": [
      "26\n"
     ]
    }
   ],
   "source": [
    "j = TooOldJungtongsil(26)\n",
    "print(j.total)"
   ]
  },
  {
   "cell_type": "code",
   "execution_count": 5,
   "id": "e1004650",
   "metadata": {},
   "outputs": [],
   "source": [
    "class OldJungtongsil(object): # getter와 setter를 사용하는 이유 : 내부 변수들에 쉽게 접근하지 못하게 하기 위해 _변수를 만들고 getter/setter 사용\n",
    "    def __init__(self, total):\n",
    "        self._total = total\n",
    "    \n",
    "    def get_total(self): # getter 매서드\n",
    "        return self._total\n",
    "\n",
    "    def set_total(self, total): # setter 매서드\n",
    "        self._total = total"
   ]
  },
  {
   "cell_type": "code",
   "execution_count": 6,
   "id": "6e46e63c",
   "metadata": {},
   "outputs": [
    {
     "name": "stdout",
     "output_type": "stream",
     "text": [
      "26\n",
      "27\n",
      "27\n"
     ]
    }
   ],
   "source": [
    "j0 = OldJungtongsil(26)\n",
    "print(j0.get_total())\n",
    "j0.set_total(27)\n",
    "print(j0.get_total())\n",
    "\n",
    "print(j0._total) # 내부용 변수이지만 가져올 순 있음, but import하면 가져오기가 불가능함"
   ]
  },
  {
   "cell_type": "code",
   "execution_count": 7,
   "id": "469a9bdd",
   "metadata": {},
   "outputs": [
    {
     "name": "stdout",
     "output_type": "stream",
     "text": [
      "28\n"
     ]
    }
   ],
   "source": [
    "j0.set_total(j0.get_total() + 1) # getter/setter의 단점 : 증가시키는 연산에 사용하기 불편\n",
    "print(j0.get_total())"
   ]
  },
  {
   "cell_type": "code",
   "execution_count": 8,
   "id": "86c74fba",
   "metadata": {},
   "outputs": [],
   "source": [
    "class Jungtongsil(object):\n",
    "    def __init__(self, yc, hc, js):\n",
    "        self.hc = hc # 훈체과\n",
    "        self.js = js # 지하실\n",
    "        self.yc = yc # 융체과\n",
    "        self.total = yc + hc + js # 총원"
   ]
  },
  {
   "cell_type": "code",
   "execution_count": 10,
   "id": "3157db2f",
   "metadata": {},
   "outputs": [
    {
     "name": "stdout",
     "output_type": "stream",
     "text": [
      "9\n",
      "26\n"
     ]
    }
   ],
   "source": [
    "j1 = Jungtongsil(yc=8, hc=11, js=7)\n",
    "j1.yc += 1\n",
    "\n",
    "print(j1.yc) # 신병\n",
    "print(j1.total) # 총원"
   ]
  },
  {
   "cell_type": "code",
   "execution_count": 11,
   "id": "e753021f",
   "metadata": {},
   "outputs": [],
   "source": [
    "class YeungChae(Jungtongsil): # 융체과 인원수 클래스\n",
    "    def __init__(self, yc, hc, js):\n",
    "        super().__init__(yc, hc, js)\n",
    "        self._yc = yc\n",
    "        \n",
    "    @property\n",
    "    def yc(self): # getter 매서드와 setter 매서드의 이름이 속성의 이름과 같아야 함\n",
    "        return self._yc\n",
    "    \n",
    "    @yc.setter\n",
    "    def yc(self, yc):\n",
    "#         diff = yc - self._yc # 이렇게 하면 안되는 이유\n",
    "#         self._yc = yc\n",
    "#         self.total += diff\n",
    "        self._yc = yc\n",
    "        self.total = self._yc + self.hc + self.js # 속성을 설정할 때 특수한 동작을 일어나게 할 수 있음"
   ]
  },
  {
   "cell_type": "code",
   "execution_count": 12,
   "id": "302c4298",
   "metadata": {},
   "outputs": [
    {
     "name": "stdout",
     "output_type": "stream",
     "text": [
      "8\n"
     ]
    }
   ],
   "source": [
    "yc1 = YeungChae(yc = 8, hc = 11, js = 7)\n",
    "print(yc1.yc)"
   ]
  },
  {
   "cell_type": "code",
   "execution_count": 14,
   "id": "5aa6bedd",
   "metadata": {},
   "outputs": [
    {
     "name": "stdout",
     "output_type": "stream",
     "text": [
      "27\n"
     ]
    }
   ],
   "source": [
    "yc1.yc = 9 # 신변\n",
    "print(yc1.total) # 총원"
   ]
  },
  {
   "cell_type": "code",
   "execution_count": 15,
   "id": "6f645038",
   "metadata": {},
   "outputs": [],
   "source": [
    "class BoundedTotal(Jungtongsil): # 총원이 0 이하인 경우 에러를 띄우는 클래스\n",
    "    def __init__(self, yc, hc, js):\n",
    "        super().__init__(yc, hc, js)\n",
    "    \n",
    "    @property\n",
    "    def total(self):\n",
    "        return self._total\n",
    "    \n",
    "    @total.setter\n",
    "    def total(self, total):\n",
    "        if total <= 0:\n",
    "            raise ValueError(\"%d total must be > 0\" % total)\n",
    "        self._total = total"
   ]
  },
  {
   "cell_type": "code",
   "execution_count": 16,
   "id": "59f1befb",
   "metadata": {},
   "outputs": [
    {
     "ename": "ValueError",
     "evalue": "0 total must be > 0",
     "output_type": "error",
     "traceback": [
      "\u001b[0;31m---------------------------------------------------------------------------\u001b[0m",
      "\u001b[0;31mValueError\u001b[0m                                Traceback (most recent call last)",
      "Input \u001b[0;32mIn [16]\u001b[0m, in \u001b[0;36m<cell line: 2>\u001b[0;34m()\u001b[0m\n\u001b[1;32m      1\u001b[0m j2 \u001b[38;5;241m=\u001b[39m BoundedTotal(\u001b[38;5;241m8\u001b[39m, \u001b[38;5;241m11\u001b[39m, \u001b[38;5;241m7\u001b[39m)\n\u001b[0;32m----> 2\u001b[0m j2\u001b[38;5;241m.\u001b[39mtotal \u001b[38;5;241m=\u001b[39m \u001b[38;5;241m0\u001b[39m\n",
      "Input \u001b[0;32mIn [15]\u001b[0m, in \u001b[0;36mBoundedTotal.total\u001b[0;34m(self, total)\u001b[0m\n\u001b[1;32m      9\u001b[0m \u001b[38;5;129m@total\u001b[39m\u001b[38;5;241m.\u001b[39msetter\n\u001b[1;32m     10\u001b[0m \u001b[38;5;28;01mdef\u001b[39;00m \u001b[38;5;21mtotal\u001b[39m(\u001b[38;5;28mself\u001b[39m, total):\n\u001b[1;32m     11\u001b[0m     \u001b[38;5;28;01mif\u001b[39;00m total \u001b[38;5;241m<\u001b[39m\u001b[38;5;241m=\u001b[39m \u001b[38;5;241m0\u001b[39m:\n\u001b[0;32m---> 12\u001b[0m         \u001b[38;5;28;01mraise\u001b[39;00m \u001b[38;5;167;01mValueError\u001b[39;00m(\u001b[38;5;124m\"\u001b[39m\u001b[38;5;132;01m%d\u001b[39;00m\u001b[38;5;124m total must be > 0\u001b[39m\u001b[38;5;124m\"\u001b[39m \u001b[38;5;241m%\u001b[39m total)\n\u001b[1;32m     13\u001b[0m     \u001b[38;5;28mself\u001b[39m\u001b[38;5;241m.\u001b[39m_total \u001b[38;5;241m=\u001b[39m total\n",
      "\u001b[0;31mValueError\u001b[0m: 0 total must be > 0"
     ]
    }
   ],
   "source": [
    "j2 = BoundedTotal(8, 11, 7)\n",
    "j2.total = 0"
   ]
  },
  {
   "cell_type": "code",
   "execution_count": 17,
   "id": "8d821f2f",
   "metadata": {},
   "outputs": [
    {
     "ename": "ValueError",
     "evalue": "-11 total must be > 0",
     "output_type": "error",
     "traceback": [
      "\u001b[0;31m---------------------------------------------------------------------------\u001b[0m",
      "\u001b[0;31mValueError\u001b[0m                                Traceback (most recent call last)",
      "Input \u001b[0;32mIn [17]\u001b[0m, in \u001b[0;36m<cell line: 1>\u001b[0;34m()\u001b[0m\n\u001b[0;32m----> 1\u001b[0m \u001b[43mBoundedTotal\u001b[49m\u001b[43m(\u001b[49m\u001b[38;5;241;43m8\u001b[39;49m\u001b[43m,\u001b[49m\u001b[43m \u001b[49m\u001b[38;5;241;43m11\u001b[39;49m\u001b[43m,\u001b[49m\u001b[43m \u001b[49m\u001b[38;5;241;43m-\u001b[39;49m\u001b[38;5;241;43m30\u001b[39;49m\u001b[43m)\u001b[49m\n",
      "Input \u001b[0;32mIn [15]\u001b[0m, in \u001b[0;36mBoundedTotal.__init__\u001b[0;34m(self, yc, hc, js)\u001b[0m\n\u001b[1;32m      2\u001b[0m \u001b[38;5;28;01mdef\u001b[39;00m \u001b[38;5;21m__init__\u001b[39m(\u001b[38;5;28mself\u001b[39m, yc, hc, js):\n\u001b[0;32m----> 3\u001b[0m     \u001b[38;5;28;43msuper\u001b[39;49m\u001b[43m(\u001b[49m\u001b[43m)\u001b[49m\u001b[38;5;241;43m.\u001b[39;49m\u001b[38;5;21;43m__init__\u001b[39;49m\u001b[43m(\u001b[49m\u001b[43myc\u001b[49m\u001b[43m,\u001b[49m\u001b[43m \u001b[49m\u001b[43mhc\u001b[49m\u001b[43m,\u001b[49m\u001b[43m \u001b[49m\u001b[43mjs\u001b[49m\u001b[43m)\u001b[49m\n",
      "Input \u001b[0;32mIn [8]\u001b[0m, in \u001b[0;36mJungtongsil.__init__\u001b[0;34m(self, yc, hc, js)\u001b[0m\n\u001b[1;32m      4\u001b[0m \u001b[38;5;28mself\u001b[39m\u001b[38;5;241m.\u001b[39mjs \u001b[38;5;241m=\u001b[39m js \u001b[38;5;66;03m# 지하실\u001b[39;00m\n\u001b[1;32m      5\u001b[0m \u001b[38;5;28mself\u001b[39m\u001b[38;5;241m.\u001b[39myc \u001b[38;5;241m=\u001b[39m yc \u001b[38;5;66;03m# 융체과\u001b[39;00m\n\u001b[0;32m----> 6\u001b[0m \u001b[38;5;28mself\u001b[39m\u001b[38;5;241m.\u001b[39mtotal \u001b[38;5;241m=\u001b[39m yc \u001b[38;5;241m+\u001b[39m hc \u001b[38;5;241m+\u001b[39m js\n",
      "Input \u001b[0;32mIn [15]\u001b[0m, in \u001b[0;36mBoundedTotal.total\u001b[0;34m(self, total)\u001b[0m\n\u001b[1;32m      9\u001b[0m \u001b[38;5;129m@total\u001b[39m\u001b[38;5;241m.\u001b[39msetter\n\u001b[1;32m     10\u001b[0m \u001b[38;5;28;01mdef\u001b[39;00m \u001b[38;5;21mtotal\u001b[39m(\u001b[38;5;28mself\u001b[39m, total):\n\u001b[1;32m     11\u001b[0m     \u001b[38;5;28;01mif\u001b[39;00m total \u001b[38;5;241m<\u001b[39m\u001b[38;5;241m=\u001b[39m \u001b[38;5;241m0\u001b[39m:\n\u001b[0;32m---> 12\u001b[0m         \u001b[38;5;28;01mraise\u001b[39;00m \u001b[38;5;167;01mValueError\u001b[39;00m(\u001b[38;5;124m\"\u001b[39m\u001b[38;5;132;01m%d\u001b[39;00m\u001b[38;5;124m total must be > 0\u001b[39m\u001b[38;5;124m\"\u001b[39m \u001b[38;5;241m%\u001b[39m total)\n\u001b[1;32m     13\u001b[0m     \u001b[38;5;28mself\u001b[39m\u001b[38;5;241m.\u001b[39m_total \u001b[38;5;241m=\u001b[39m total\n",
      "\u001b[0;31mValueError\u001b[0m: -11 total must be > 0"
     ]
    }
   ],
   "source": [
    "BoundedTotal(8, 11, -30)"
   ]
  },
  {
   "cell_type": "code",
   "execution_count": 18,
   "id": "31d33f60",
   "metadata": {},
   "outputs": [],
   "source": [
    "class FixedTotal(Jungtongsil) : # 부모 클래스의 속성을 불변으로 만드는 클래스\n",
    "    def __init__(self, yc, hc, js):\n",
    "        super().__init__(yc, hc, js)\n",
    "    \n",
    "    @property\n",
    "    def total(self):\n",
    "        return self._total\n",
    "    \n",
    "    @total.setter\n",
    "    def total(self, total):\n",
    "        if hasattr(self, '_total'):\n",
    "            raise AttributeError(\"Can't set attribute\")\n",
    "        self._total = total"
   ]
  },
  {
   "cell_type": "code",
   "execution_count": 19,
   "id": "19e6eb9b",
   "metadata": {},
   "outputs": [
    {
     "ename": "AttributeError",
     "evalue": "Can't set attribute",
     "output_type": "error",
     "traceback": [
      "\u001b[0;31m---------------------------------------------------------------------------\u001b[0m",
      "\u001b[0;31mAttributeError\u001b[0m                            Traceback (most recent call last)",
      "Input \u001b[0;32mIn [19]\u001b[0m, in \u001b[0;36m<cell line: 2>\u001b[0;34m()\u001b[0m\n\u001b[1;32m      1\u001b[0m j3 \u001b[38;5;241m=\u001b[39m FixedTotal(\u001b[38;5;241m8\u001b[39m, \u001b[38;5;241m11\u001b[39m, \u001b[38;5;241m7\u001b[39m)\n\u001b[0;32m----> 2\u001b[0m j3\u001b[38;5;241m.\u001b[39mtotal \u001b[38;5;241m=\u001b[39m \u001b[38;5;241m100\u001b[39m\n",
      "Input \u001b[0;32mIn [18]\u001b[0m, in \u001b[0;36mFixedTotal.total\u001b[0;34m(self, total)\u001b[0m\n\u001b[1;32m      9\u001b[0m \u001b[38;5;129m@total\u001b[39m\u001b[38;5;241m.\u001b[39msetter\n\u001b[1;32m     10\u001b[0m \u001b[38;5;28;01mdef\u001b[39;00m \u001b[38;5;21mtotal\u001b[39m(\u001b[38;5;28mself\u001b[39m, total):\n\u001b[1;32m     11\u001b[0m     \u001b[38;5;28;01mif\u001b[39;00m \u001b[38;5;28mhasattr\u001b[39m(\u001b[38;5;28mself\u001b[39m, \u001b[38;5;124m'\u001b[39m\u001b[38;5;124m_total\u001b[39m\u001b[38;5;124m'\u001b[39m):\n\u001b[0;32m---> 12\u001b[0m         \u001b[38;5;28;01mraise\u001b[39;00m \u001b[38;5;167;01mAttributeError\u001b[39;00m(\u001b[38;5;124m\"\u001b[39m\u001b[38;5;124mCan\u001b[39m\u001b[38;5;124m'\u001b[39m\u001b[38;5;124mt set attribute\u001b[39m\u001b[38;5;124m\"\u001b[39m)\n\u001b[1;32m     13\u001b[0m     \u001b[38;5;28mself\u001b[39m\u001b[38;5;241m.\u001b[39m_total \u001b[38;5;241m=\u001b[39m total\n",
      "\u001b[0;31mAttributeError\u001b[0m: Can't set attribute"
     ]
    }
   ],
   "source": [
    "j3 = FixedTotal(8, 11, 7)\n",
    "j3.total = 100 # 총원을 100명으로 늘리기"
   ]
  },
  {
   "cell_type": "code",
   "execution_count": 20,
   "id": "bc1aa9c8",
   "metadata": {},
   "outputs": [],
   "source": [
    "# @property의 단점 : 속성에 대응하는 매서드를 서브클래스에서만 공유할 수 있다.\n",
    "# but 디스크립터를 이용하면 @property를 재사용할 수 있다."
   ]
  },
  {
   "cell_type": "code",
   "execution_count": null,
   "id": "f37c271f",
   "metadata": {},
   "outputs": [],
   "source": [
    "class MysteriousYC(Jungtongsil): # property 매서드에서 다른 속성을 건드린다면?\n",
    "    def __init__(self, yc, hc, js):\n",
    "        super().__init__(yc, hc, js)\n",
    "        self._yc = yc\n",
    "    \n",
    "    @property\n",
    "    def yc(self):\n",
    "        self.total = self._yc + self.hc + self.js # setter에서 getter 함수로 이동\n",
    "        return self._yc\n",
    "    \n",
    "    @yc.sette"
   ]
  }
 ],
 "metadata": {
  "kernelspec": {
   "display_name": "torch_book",
   "language": "python",
   "name": "torch_book"
  },
  "language_info": {
   "codemirror_mode": {
    "name": "ipython",
    "version": 3
   },
   "file_extension": ".py",
   "mimetype": "text/x-python",
   "name": "python",
   "nbconvert_exporter": "python",
   "pygments_lexer": "ipython3",
   "version": "3.9.12"
  }
 },
 "nbformat": 4,
 "nbformat_minor": 5
}
