{
 "cells": [
  {
   "cell_type": "markdown",
   "id": "2d8fb919",
   "metadata": {},
   "source": [
    "작성일자: 2022-08-09<br>\n",
    "작성자: 김동연"
   ]
  },
  {
   "cell_type": "code",
   "execution_count": 1,
   "id": "cf83c463",
   "metadata": {},
   "outputs": [],
   "source": [
    "from collections import deque, OrderedDict, defaultdict\n",
    "from random import randint\n",
    "from heapq import *\n",
    "from bisect import bisect_left\n",
    "from itertools import *\n",
    "import time"
   ]
  },
  {
   "cell_type": "markdown",
   "id": "09142b3a",
   "metadata": {},
   "source": [
    "## 더블 앤디드 큐\n",
    "collections 모듈의 deque 클래스는 double-ended queue다.<br>\n",
    "이 클래스는 큐의 처음과 끝에서 아이템의 삭제와 삽입에 대하여 항상 일정한 시간이 걸리는 연산을 제공한다.<br>\n",
    "리스트는 시작 부분에 아이템을 삭제하고 삽입하는데에는 linear한 시간이 걸리므로 deque가 더 유리한 점이 있다."
   ]
  },
  {
   "cell_type": "code",
   "execution_count": 3,
   "id": "ef1ffc4e",
   "metadata": {},
   "outputs": [
    {
     "name": "stdout",
     "output_type": "stream",
     "text": [
      "deque([])\n",
      "deque([1])\n",
      "deque([1, 2])\n",
      "deque([2])\n"
     ]
    }
   ],
   "source": [
    "fifo = deque()\n",
    "print(fifo)\n",
    "fifo.append(1)\n",
    "print(fifo)\n",
    "fifo.append(2)\n",
    "print(fifo)\n",
    "x = fifo.popleft()\n",
    "print(fifo)"
   ]
  },
  {
   "cell_type": "code",
   "execution_count": 4,
   "id": "a00064aa",
   "metadata": {},
   "outputs": [
    {
     "name": "stdout",
     "output_type": "stream",
     "text": [
      "1\n"
     ]
    }
   ],
   "source": [
    "print(x)"
   ]
  },
  {
   "cell_type": "markdown",
   "id": "64e1dce3",
   "metadata": {},
   "source": [
    "## 정렬된 딕셔너리\n",
    "이전 버전의 Python3에서는 딕셔너리의 입력순서와 상관없이 딕셔너리가 정렬되었다.<br>\n",
    "하지만 최신 버전의 python3의 딕셔너리는 입력순서에 따라 키와 밸류를 정렬한다.<br>\n",
    "과거에는 순서대로 키를 순회하기 위해 Collections 모듈의 OrderedDirct 클래스를 사용했다.<br>\n",
    "Ordereddict 클래스는 딕셔너리 사이의 비교에도 키의 순서를 고려하므로 더 엄밀한 딕셔너리의 사용이 필요한 프로그램에 적용 가능하다."
   ]
  },
  {
   "cell_type": "code",
   "execution_count": 5,
   "id": "4c04b258",
   "metadata": {},
   "outputs": [],
   "source": [
    "a = {}\n",
    "a['foo'] = 1\n",
    "a['bar'] = 2"
   ]
  },
  {
   "cell_type": "code",
   "execution_count": 6,
   "id": "d4f171fa",
   "metadata": {},
   "outputs": [],
   "source": [
    "b = {}\n",
    "b['bar'] = 2\n",
    "b['foo'] = 1"
   ]
  },
  {
   "cell_type": "code",
   "execution_count": 7,
   "id": "7e737049",
   "metadata": {},
   "outputs": [
    {
     "name": "stdout",
     "output_type": "stream",
     "text": [
      "{'foo': 1, 'bar': 2}\n",
      "{'bar': 2, 'foo': 1}\n",
      "Equal? True\n"
     ]
    }
   ],
   "source": [
    "print(a)\n",
    "print(b)\n",
    "print('Equal?', a == b)"
   ]
  },
  {
   "cell_type": "code",
   "execution_count": 8,
   "id": "5ed55008",
   "metadata": {},
   "outputs": [],
   "source": [
    "a = OrderedDict()\n",
    "a['foo'] = 1\n",
    "a['bar'] = 2\n",
    "\n",
    "b = OrderedDict()\n",
    "b['bar'] = 2\n",
    "b['foo'] = 1"
   ]
  },
  {
   "cell_type": "code",
   "execution_count": 9,
   "id": "498fdd72",
   "metadata": {},
   "outputs": [
    {
     "name": "stdout",
     "output_type": "stream",
     "text": [
      "OrderedDict([('foo', 1), ('bar', 2)])\n",
      "OrderedDict([('bar', 2), ('foo', 1)])\n",
      "Equal? False\n"
     ]
    }
   ],
   "source": [
    "print(a)\n",
    "print(b)\n",
    "print('Equal?', a == b)"
   ]
  },
  {
   "cell_type": "markdown",
   "id": "31dc11bf",
   "metadata": {},
   "source": [
    "## 기본 딕셔너리\n",
    "딕셔너리는 키가 존재하지 않으면 에러를 발생시키기 때문에 사용에 약간의 불편함이 생긴다.<br>\n",
    "collections 모듈의 defaultdict 클래스는 키가 존재하지 않으면 자동으로 default값을 할당하여 이런 불편함을 줄여준다.<br>\n",
    "같은 작업을 하는 프로그램이지만 더 단순화된 구현이 가능하다."
   ]
  },
  {
   "cell_type": "code",
   "execution_count": 10,
   "id": "c25e720f",
   "metadata": {},
   "outputs": [],
   "source": [
    "stats = {}\n",
    "key = 'my_counter'\n",
    "if key not in stats:\n",
    "    stats[key] = 0\n",
    "stats[key] += 1"
   ]
  },
  {
   "cell_type": "code",
   "execution_count": 11,
   "id": "7a2bce39",
   "metadata": {},
   "outputs": [],
   "source": [
    "stats = defaultdict(int)\n",
    "stats['my_counter'] += 1"
   ]
  },
  {
   "cell_type": "markdown",
   "id": "7e5d5942",
   "metadata": {},
   "source": [
    "## 힙 큐\n",
    "힙은 priority queue를 유지하는 유용한 자료 구조이다.<br>\n",
    "heapq 모듈은 표준 list 타입으로 힙을 생성하는 함수를 제공한다.<br>\n",
    "<br>\n",
    "heappush 함수는 힙 불변성을 유지하면서 힙에 아이템을 삽입한다."
   ]
  },
  {
   "cell_type": "code",
   "execution_count": 12,
   "id": "7b4af683",
   "metadata": {},
   "outputs": [],
   "source": [
    "a = []\n",
    "heappush(a, 5)\n",
    "heappush(a, 3)\n",
    "heappush(a, 7)\n",
    "heappush(a, 4)"
   ]
  },
  {
   "cell_type": "markdown",
   "id": "5f3d609d",
   "metadata": {},
   "source": [
    "heappop 함수는 힙 불변성을 유지하면서 힙에서 아이템을 삭제한다."
   ]
  },
  {
   "cell_type": "code",
   "execution_count": 13,
   "id": "cb26b552",
   "metadata": {},
   "outputs": [
    {
     "name": "stdout",
     "output_type": "stream",
     "text": [
      "3 4 5 7\n"
     ]
    }
   ],
   "source": [
    "print(heappop(a), heappop(a), heappop(a), heappop(a))"
   ]
  },
  {
   "cell_type": "markdown",
   "id": "8c8d51a3",
   "metadata": {},
   "source": [
    "nsmallest 함수는 n개의 가장 작은 요소들을 보여준다."
   ]
  },
  {
   "cell_type": "code",
   "execution_count": 14,
   "id": "5bcb2784",
   "metadata": {},
   "outputs": [],
   "source": [
    "a = []\n",
    "heappush(a, 5)\n",
    "heappush(a, 3)\n",
    "heappush(a, 7)\n",
    "heappush(a, 4)\n",
    "assert a[0] == nsmallest(1, a)[0] == 3"
   ]
  },
  {
   "cell_type": "code",
   "execution_count": 15,
   "id": "2c12749d",
   "metadata": {},
   "outputs": [
    {
     "name": "stdout",
     "output_type": "stream",
     "text": [
      "[3, 4]\n"
     ]
    }
   ],
   "source": [
    "print(nsmallest(2, a))"
   ]
  },
  {
   "cell_type": "markdown",
   "id": "0b8f63cc",
   "metadata": {},
   "source": [
    "list의 sort 메서드를 사용하여도 힙의 불변성이 잘 유지된다."
   ]
  },
  {
   "cell_type": "code",
   "execution_count": 16,
   "id": "f672c3a5",
   "metadata": {},
   "outputs": [
    {
     "name": "stdout",
     "output_type": "stream",
     "text": [
      "Before [3, 4, 7, 5]\n",
      "After [3, 4, 5, 7]\n"
     ]
    }
   ],
   "source": [
    "print('Before', a)\n",
    "a.sort()\n",
    "print('After', a)"
   ]
  },
  {
   "cell_type": "markdown",
   "id": "b252c6bb",
   "metadata": {},
   "source": [
    "heap 연산은 리스트의 길이에 로그 형태로 비례해 증가한다.<br>\n",
    "반면에 리스트로 같은 동작을 수행할 경우 리스트의 길이에 linear하게 비례해 증가한다.<br>\n",
    "실행속도 측면에서 큰 이 점을 얻을 수 있다."
   ]
  },
  {
   "cell_type": "markdown",
   "id": "8e816c37",
   "metadata": {},
   "source": [
    "## 바이섹션\n",
    "리스트의 인덱스 메서드는 linear하게 시간이 걸린다.<br>\n",
    "반면에 bisect 모듈의 bisect_left 함수는 더 효율적인 바이너리 검색을 사용한다.<br>\n",
    "시간 복잡도가 로그이기 때문에 검색에 걸리는 시간이 더 짧다는 것을 확인할 수 있다."
   ]
  },
  {
   "cell_type": "code",
   "execution_count": 17,
   "id": "93b3f04c",
   "metadata": {},
   "outputs": [
    {
     "name": "stdout",
     "output_type": "stream",
     "text": [
      "0.021055936813354492\n"
     ]
    }
   ],
   "source": [
    "x = list(range(10**6))\n",
    "start = time.time()\n",
    "i = x.index(991234)\n",
    "end = time.time()\n",
    "print(end - start)"
   ]
  },
  {
   "cell_type": "code",
   "execution_count": 18,
   "id": "959eff1c",
   "metadata": {},
   "outputs": [
    {
     "name": "stdout",
     "output_type": "stream",
     "text": [
      "0.0002162456512451172\n"
     ]
    }
   ],
   "source": [
    "start = time.time()\n",
    "i = bisect_left(x, 991234)\n",
    "end = time.time()\n",
    "print(end - start)"
   ]
  },
  {
   "cell_type": "markdown",
   "id": "7808c96a",
   "metadata": {},
   "source": [
    "## 이터레이터 도구\n",
    "내장 모듈 itertools는 이터레이터를 구성하거나 다루는데 있어 유용한 함수를 제공한다.<br>\n",
    "chain : iterable한 객체들은 하나의 이터레이터로 결합한다.<br>"
   ]
  },
  {
   "cell_type": "code",
   "execution_count": 19,
   "id": "46af6a92",
   "metadata": {},
   "outputs": [
    {
     "name": "stdout",
     "output_type": "stream",
     "text": [
      "[1, 2, 3, 4, 8, 9, 10, 11, 15, 16, 17]\n"
     ]
    }
   ],
   "source": [
    "list1 = [1, 2, 3, 4]\n",
    "list2 = [8, 9, 10, 11]\n",
    "list3 = [15, 16, 17]\n",
    "chained_list = chain(list1, list2, list3)\n",
    "print(list(chained_list))"
   ]
  },
  {
   "cell_type": "markdown",
   "id": "b28faa8c",
   "metadata": {},
   "source": [
    "cycle: iterable한 객체의 아이템을 계속 반복한다."
   ]
  },
  {
   "cell_type": "code",
   "execution_count": 21,
   "id": "53dca655",
   "metadata": {},
   "outputs": [
    {
     "name": "stdout",
     "output_type": "stream",
     "text": [
      "1 2 3 1 2 3 1 2 "
     ]
    }
   ],
   "source": [
    "temp = 0\n",
    "for i in cycle(\"123\"):\n",
    "    if temp > 7:\n",
    "        break\n",
    "    else:\n",
    "        print(i, end=' ')\n",
    "        temp = temp + 1"
   ]
  },
  {
   "cell_type": "markdown",
   "id": "d0f1a7ea",
   "metadata": {},
   "source": [
    "tee: iterable한 객체를 여러 개의 독립된 이터레이터로 반환한다."
   ]
  },
  {
   "cell_type": "code",
   "execution_count": 22,
   "id": "3cde579e",
   "metadata": {},
   "outputs": [
    {
     "name": "stdout",
     "output_type": "stream",
     "text": [
      "[0, 1, 2, 3, 4, 5, 6, 7, 8, 9]\n",
      "[]\n",
      "[0, 1, 2, 3, 4, 5, 6, 7, 8, 9]\n",
      "[]\n",
      "[0, 1, 2, 3, 4, 5, 6, 7, 8, 9]\n",
      "[]\n"
     ]
    }
   ],
   "source": [
    "iter1, iter2, iter3 = tee(range(10), 3)\n",
    "\n",
    "print(list(iter1))\n",
    "print(list(iter1))\n",
    "\n",
    "print(list(iter2))\n",
    "print(list(iter2))\n",
    "\n",
    "print(list(iter3))\n",
    "print(list(iter3))"
   ]
  },
  {
   "cell_type": "markdown",
   "id": "9a7d4564",
   "metadata": {},
   "source": [
    "zip_longest: 길이가 다른 iterable한 객체들에 대해 zip과 유사한 동작을 제공한다."
   ]
  },
  {
   "cell_type": "code",
   "execution_count": 23,
   "id": "c7624962",
   "metadata": {},
   "outputs": [
    {
     "name": "stdout",
     "output_type": "stream",
     "text": [
      "[(1, 4), (2, 5), (3, 6)]\n",
      "[(1, 4), (2, 5), (3, 6), (None, 7)]\n",
      "[(1, 4), (2, 5), (3, 6), (0, 7)]\n"
     ]
    }
   ],
   "source": [
    "x = [1, 2, 3]\n",
    "y = [4, 5, 6, 7]\n",
    "\n",
    "zipped_1 = zip(x, y)\n",
    "zipped_2 = zip_longest(x, y)\n",
    "zipped_3 = zip_longest(x, y, fillvalue=0)\n",
    "\n",
    "print(list(zipped_1))\n",
    "print(list(zipped_2))\n",
    "print(list(zipped_3))"
   ]
  },
  {
   "cell_type": "markdown",
   "id": "2b12c570",
   "metadata": {},
   "source": [
    "islice: iterable한 객체를 인덱싱한다."
   ]
  },
  {
   "cell_type": "code",
   "execution_count": 25,
   "id": "55d4f8f7",
   "metadata": {},
   "outputs": [
    {
     "name": "stdout",
     "output_type": "stream",
     "text": [
      "[0, 1, 2, 3, 4]\n",
      "[0, 10, 20, 30, 40, 50, 60, 70, 80, 90]\n"
     ]
    }
   ],
   "source": [
    "print(list(islice(range(10), 5)))\n",
    "print(list(islice(range(100), 0, 100, 10)))"
   ]
  },
  {
   "cell_type": "markdown",
   "id": "364e658b",
   "metadata": {},
   "source": [
    "1. takewhile : predicate function이 True를 반환하는 동안 iterable한 객체의 아이템을 반환한다.\n",
    "2. dropwhile : predicate function이 처음 False를 반환하고 iterable한 객체의 아이템을 반환한다.\n",
    "3. filterfalse : predicate function이 False를 반환하는 iterable한 객체의 모든 아이템을 반환한다."
   ]
  },
  {
   "cell_type": "code",
   "execution_count": 27,
   "id": "d87abe93",
   "metadata": {},
   "outputs": [
    {
     "name": "stdout",
     "output_type": "stream",
     "text": [
      "takewhile :  [1, 4, 6, 7]\n",
      "dropwhile :  [11, 34, 66, 100, 1]\n",
      "filterfalse :  [4, 6, 34, 66, 100]\n"
     ]
    }
   ],
   "source": [
    "target_list = [1, 4, 6, 7, 11, 34, 66, 100, 1]\n",
    "take_res = takewhile(lambda x: x < 10, target_list)\n",
    "print('takewhile : ', list(take_res))\n",
    "drop_res = dropwhile(lambda x: x < 10, target_list)\n",
    "print('dropwhile : ', list(drop_res))\n",
    "filt_res = filterfalse(lambda x: x % 2, target_list)\n",
    "print('filterfalse : ', list(filt_res))"
   ]
  },
  {
   "cell_type": "markdown",
   "id": "5b0f7211",
   "metadata": {},
   "source": [
    "product : iterable한 객체의 아이템들의 카테시안 곱을 반환한다."
   ]
  },
  {
   "cell_type": "code",
   "execution_count": 28,
   "id": "5cd7055b",
   "metadata": {},
   "outputs": [
    {
     "name": "stdout",
     "output_type": "stream",
     "text": [
      "[('가', 'a', '1'), ('가', 'a', '2'), ('가', 'a', '3'), ('가', 'b', '1'), ('가', 'b', '2'), ('가', 'b', '3'), ('가', 'c', '1'), ('가', 'c', '2'), ('가', 'c', '3'), ('나', 'a', '1'), ('나', 'a', '2'), ('나', 'a', '3'), ('나', 'b', '1'), ('나', 'b', '2'), ('나', 'b', '3'), ('나', 'c', '1'), ('나', 'c', '2'), ('나', 'c', '3'), ('다', 'a', '1'), ('다', 'a', '2'), ('다', 'a', '3'), ('다', 'b', '1'), ('다', 'b', '2'), ('다', 'b', '3'), ('다', 'c', '1'), ('다', 'c', '2'), ('다', 'c', '3')]\n"
     ]
    }
   ],
   "source": [
    "example = ['가나다', 'abc', '123']\n",
    "pd = list(product(*example))\n",
    "print(pd)"
   ]
  },
  {
   "cell_type": "markdown",
   "id": "b206f894",
   "metadata": {},
   "source": [
    "permutations: iterable한 객체의 아이템에 대해 임의의 길이의 순열을 반환한다."
   ]
  },
  {
   "cell_type": "code",
   "execution_count": 29,
   "id": "0722e295",
   "metadata": {},
   "outputs": [
    {
     "name": "stdout",
     "output_type": "stream",
     "text": [
      "[(1, 2), (1, 3), (2, 1), (2, 3), (3, 1), (3, 2)]\n"
     ]
    }
   ],
   "source": [
    "example = [1, 2, 3]\n",
    "perm = list(permutations(example, 2))\n",
    "print(perm)"
   ]
  },
  {
   "cell_type": "markdown",
   "id": "2cb75fc4",
   "metadata": {},
   "source": [
    "combinations: iterable한 객체의 아이템에 대해 임의의 길이의 조합을 반환한다."
   ]
  },
  {
   "cell_type": "code",
   "execution_count": null,
   "id": "bd37ea3f",
   "metadata": {},
   "outputs": [],
   "source": []
  }
 ],
 "metadata": {
  "kernelspec": {
   "display_name": "Python 3 (ipykernel)",
   "language": "python",
   "name": "python3"
  },
  "language_info": {
   "codemirror_mode": {
    "name": "ipython",
    "version": 3
   },
   "file_extension": ".py",
   "mimetype": "text/x-python",
   "name": "python",
   "nbconvert_exporter": "python",
   "pygments_lexer": "ipython3",
   "version": "3.7.13"
  }
 },
 "nbformat": 4,
 "nbformat_minor": 5
}
