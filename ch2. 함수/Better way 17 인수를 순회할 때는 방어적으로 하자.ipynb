{
 "cells": [
  {
   "cell_type": "markdown",
   "id": "5774c132",
   "metadata": {},
   "source": [
    "작성일자: 2022-08-03<br>\n",
    "작성자: 김동연"
   ]
  },
  {
   "cell_type": "markdown",
   "id": "b1322227",
   "metadata": {},
   "source": [
    "함수의 파라미터로 리스트를 받는 경우 리스트를 여러 번 순회해야 하는 경우가 있다.<br>\n",
    "예를 들어 각 도시의 방문자 수를 나타내는 리스트가 있다고 생각해보자.<br>\n",
    "정규화 함수를 통해 전체 방문자 중 몇 퍼센트가 각 도시를 방문했는지 알 수 있다.<br>\n",
    "<br>\n",
    "정규화 함수에서는 전체 방문자 수를 sum으로 구하고 각 도시의 방문자 수와 전체 방문자 수를 나눈다."
   ]
  },
  {
   "cell_type": "code",
   "execution_count": 1,
   "id": "72bea92a",
   "metadata": {},
   "outputs": [],
   "source": [
    "def normalize(numbers):\n",
    "    total = sum(numbers)\n",
    "    result = []\n",
    "    for value in numbers:\n",
    "        percent = 100 * value / total\n",
    "        result.append(percent)\n",
    "    return result"
   ]
  },
  {
   "cell_type": "code",
   "execution_count": 2,
   "id": "be769536",
   "metadata": {},
   "outputs": [
    {
     "name": "stdout",
     "output_type": "stream",
     "text": [
      "[11.538461538461538, 26.923076923076923, 61.53846153846154]\n"
     ]
    }
   ],
   "source": [
    "visits = [15, 35, 80]\n",
    "percentages = normalize(visits)\n",
    "print(percentages)"
   ]
  },
  {
   "cell_type": "markdown",
   "id": "29c25009",
   "metadata": {},
   "source": [
    "현실의 데이터는 매우 클 가능성이 높기 때문에 제너레이터를 정의하여 효율적으로 데이터 처리가 가능하다."
   ]
  },
  {
   "cell_type": "code",
   "execution_count": 5,
   "id": "2dc12ca1",
   "metadata": {},
   "outputs": [],
   "source": [
    "def generator_visits(numbers):\n",
    "    for number in numbers:\n",
    "        yield number"
   ]
  },
  {
   "cell_type": "markdown",
   "id": "c69d87ac",
   "metadata": {},
   "source": [
    "하지만 제너레이터로 생성한 값을 normalize 함수의 파라미터로 사용하면 결과가 나오지 않는다."
   ]
  },
  {
   "cell_type": "code",
   "execution_count": 6,
   "id": "f8eb4808",
   "metadata": {},
   "outputs": [
    {
     "name": "stdout",
     "output_type": "stream",
     "text": [
      "[]\n"
     ]
    }
   ],
   "source": [
    "numbers = [15, 35, 80]\n",
    "it = generator_visits(numbers)\n",
    "percentages = normalize(it)\n",
    "print(percentages)"
   ]
  },
  {
   "cell_type": "markdown",
   "id": "aa334b09",
   "metadata": {},
   "source": [
    "그 이유는 이터레이터가 결과를 한 번만 생성하기 때문이다.<br>\n",
    "한 번의 순회를 마친 이터레이터는 아무 결과도 출력하지 않는다."
   ]
  },
  {
   "cell_type": "code",
   "execution_count": 7,
   "id": "6ab3dfa4",
   "metadata": {},
   "outputs": [
    {
     "name": "stdout",
     "output_type": "stream",
     "text": [
      "[15, 35, 80]\n",
      "[]\n"
     ]
    }
   ],
   "source": [
    "it = generator_visits(numbers)\n",
    "print(list(it))\n",
    "print(list(it))"
   ]
  },
  {
   "cell_type": "markdown",
   "id": "613bcfe6",
   "metadata": {},
   "source": [
    "대부분의 파이썬의 동작에서 처음부터 비어있는 이터레이터와 결과가 있었지만 이미 사용한 이터레이터를 구분하지 않는다.<br>\n",
    "<br>\n",
    "이 문제를 해결하기 위해 이터레이터의 복사본을 리스트에 저장하는 방법을 사용할 수 있다.<br>\n",
    "리스트는 몇 번이고 순회가 가능하다."
   ]
  },
  {
   "cell_type": "code",
   "execution_count": 9,
   "id": "c9575aaa",
   "metadata": {},
   "outputs": [],
   "source": [
    "def normalize_copy(numbers):\n",
    "    numbers = list(numbers)\n",
    "    total = sum(numbers)\n",
    "    result = []\n",
    "    for value in numbers:\n",
    "        percent = 100 * value / total\n",
    "        result.append(percent)\n",
    "    return result"
   ]
  },
  {
   "cell_type": "code",
   "execution_count": 10,
   "id": "839cb003",
   "metadata": {},
   "outputs": [
    {
     "name": "stdout",
     "output_type": "stream",
     "text": [
      "[11.538461538461538, 26.923076923076923, 61.53846153846154]\n"
     ]
    }
   ],
   "source": [
    "numbers = [15, 35, 80]\n",
    "it = generator_visits(numbers)\n",
    "percentages = normalize_copy(it)\n",
    "print(percentages)"
   ]
  },
  {
   "cell_type": "markdown",
   "id": "39cf6655",
   "metadata": {},
   "source": [
    "하지만 복사한 리스트가 큰 경우 문제가 발생한다.<br>\n",
    "메모리 부족으로 인해 올바른 동작을 하지 않을 가능성도 존재한다.<br>\n",
    "<br>\n",
    "메모리 부족 문제를 해결하려면 함수의 파라미터로 이터레이터를 반환하는 함수를 설정하는 것이다."
   ]
  },
  {
   "cell_type": "code",
   "execution_count": 12,
   "id": "d254184d",
   "metadata": {},
   "outputs": [],
   "source": [
    "def normalize_func(get_iter):\n",
    "    total = sum(get_iter())    # 새 이터레이터\n",
    "    result = []\n",
    "    for value in get_iter():   # 새 이터레이터\n",
    "        percent = 100 * value / total\n",
    "        result.append(percent)\n",
    "    return result"
   ]
  },
  {
   "cell_type": "markdown",
   "id": "27179924",
   "metadata": {},
   "source": [
    "람다 표현식으로 원하는 결과를 얻을 수 있다."
   ]
  },
  {
   "cell_type": "code",
   "execution_count": 13,
   "id": "7ca92e5a",
   "metadata": {},
   "outputs": [
    {
     "name": "stdout",
     "output_type": "stream",
     "text": [
      "[11.538461538461538, 26.923076923076923, 61.53846153846154]\n"
     ]
    }
   ],
   "source": [
    "percentages = normalize_func(lambda : generator_visits(numbers))\n",
    "print(percentages)"
   ]
  },
  {
   "cell_type": "markdown",
   "id": "19d63cc4",
   "metadata": {},
   "source": [
    "람다 함수를 직접적으로 인수로 사용하는 것은 세련되지 못 하다.<br>\n",
    "이터레이터 프로토콜을 구현한 새 컨테이너 클래스를 사용하면 더 세련된 방법으로 같은 결과를 얻을 수 있다.<br>\n",
    "이터레이터 프로토콜은 컨테이너 타입의 내용을 순서대로 탐색하는 방법을 나타낸다.<br>\n",
    "```for i in foo```같은 구문에서 python은 ```iter(foo)```를 호출하고, 함수 iter는 특정 메서드인 ```foo.__iter__```를 호출한다.<br>\n",
    "```__iter__```메서드는 이터레이터 객체를 반환한다.<br>\n",
    "for 루프는 이터레이터를 모두 소진해 StopIteration 예외가 발생할 때까지 이터레이터 객체의 함수 next를 계속 호출한다.<br>\n",
    "<br>\n",
    "```__iter__``` 메서드는 제널이터로 구현하면 더 쉽게 구현이 가능하다.<br>\n",
    "다음이 우리의 목적에 맞게 구성한 컨테이너 크래스다."
   ]
  },
  {
   "cell_type": "code",
   "execution_count": 14,
   "id": "b1020b5a",
   "metadata": {},
   "outputs": [],
   "source": [
    "class ReadVisits(object):\n",
    "    def __init__(self, numbers):\n",
    "        self.numbers = numbers\n",
    "    \n",
    "    def __iter__(self):\n",
    "        for number in self.numbers:\n",
    "            yield number"
   ]
  },
  {
   "cell_type": "markdown",
   "id": "9821df69",
   "metadata": {},
   "source": [
    "이 클래스를 사용할 경우 맨 처음의 함수를 수정하지 않아도 올바른 결과를 얻을 수 있다."
   ]
  },
  {
   "cell_type": "code",
   "execution_count": 15,
   "id": "b2e2c80c",
   "metadata": {},
   "outputs": [
    {
     "name": "stdout",
     "output_type": "stream",
     "text": [
      "[11.538461538461538, 26.923076923076923, 61.53846153846154]\n"
     ]
    }
   ],
   "source": [
    "visits = ReadVisits(numbers)\n",
    "perecentages = normalize(visits)\n",
    "print(percentages)"
   ]
  },
  {
   "cell_type": "markdown",
   "id": "ef6d18c2",
   "metadata": {},
   "source": [
    "normalize의 sum 메서드, for 루프 각각 ```ReadVisits.__iter__```를 호출하여 이터레이터 객체를 할당한다.<br>\n",
    "그리고 두 객체들은 서로 독립적이기 때문에 올바른 동작을 한다.<br>\n",
    "<br>\n",
    "normalize 함수의 올바른 동작을 보장하기 위해서 단순 이터레이터를 인수로 받아들이지 않도록 함수를 작성한다.<br>\n",
    ">내장 함수 ```iter```가 이터레이터를 받으면 입력받은 이터레이터 자체가 반환된다.<br>\n",
    ">하지만 ```iter```가 컨테이너 타입을 받으면 항상 다른 이터레이터 객체가 반환된다.<br>\n",
    "\n",
    "이것을 이용해서 이터레이터를 입력으로 받으면 TypeError를 일으키도록 할 수 있다."
   ]
  },
  {
   "cell_type": "code",
   "execution_count": 16,
   "id": "c0c94152",
   "metadata": {},
   "outputs": [],
   "source": [
    "def normalize_defensive(numbers):\n",
    "    if iter(numbers) is iter(numbers):\n",
    "        raise TypeError('Must supply a conatainer')\n",
    "    total = sum(numbers)\n",
    "    result = []\n",
    "    for value in numbers:\n",
    "        percent = 100 * value / total\n",
    "        result.append(percent)\n",
    "    return result"
   ]
  },
  {
   "cell_type": "markdown",
   "id": "4d486af3",
   "metadata": {},
   "source": [
    "컨테이너 타입인 리스트와 ReadVisits에 대해서 올바르게 작동하는 것을 확인할 수 있다."
   ]
  },
  {
   "cell_type": "code",
   "execution_count": 17,
   "id": "6db27338",
   "metadata": {},
   "outputs": [
    {
     "name": "stdout",
     "output_type": "stream",
     "text": [
      "[11.538461538461538, 26.923076923076923, 61.53846153846154]\n",
      "[11.538461538461538, 26.923076923076923, 61.53846153846154]\n"
     ]
    }
   ],
   "source": [
    "visits = [15, 35, 80]\n",
    "print(normalize_defensive(visits))\n",
    "visits = ReadVisits(visits)\n",
    "print(normalize_defensive(visits))"
   ]
  },
  {
   "cell_type": "markdown",
   "id": "7dc3e201",
   "metadata": {},
   "source": [
    "이터레이터에 대해서는 TypeError를 일으킨다."
   ]
  },
  {
   "cell_type": "code",
   "execution_count": 18,
   "id": "0f3de140",
   "metadata": {},
   "outputs": [
    {
     "ename": "TypeError",
     "evalue": "Must supply a conatainer",
     "output_type": "error",
     "traceback": [
      "\u001b[0;31m---------------------------------------------------------------------------\u001b[0m",
      "\u001b[0;31mTypeError\u001b[0m                                 Traceback (most recent call last)",
      "Input \u001b[0;32mIn [18]\u001b[0m, in \u001b[0;36m<cell line: 2>\u001b[0;34m()\u001b[0m\n\u001b[1;32m      1\u001b[0m it \u001b[38;5;241m=\u001b[39m \u001b[38;5;28miter\u001b[39m(visits)\n\u001b[0;32m----> 2\u001b[0m \u001b[43mnormalize_defensive\u001b[49m\u001b[43m(\u001b[49m\u001b[43mit\u001b[49m\u001b[43m)\u001b[49m\n",
      "Input \u001b[0;32mIn [16]\u001b[0m, in \u001b[0;36mnormalize_defensive\u001b[0;34m(numbers)\u001b[0m\n\u001b[1;32m      1\u001b[0m \u001b[38;5;28;01mdef\u001b[39;00m \u001b[38;5;21mnormalize_defensive\u001b[39m(numbers):\n\u001b[1;32m      2\u001b[0m     \u001b[38;5;28;01mif\u001b[39;00m \u001b[38;5;28miter\u001b[39m(numbers) \u001b[38;5;129;01mis\u001b[39;00m \u001b[38;5;28miter\u001b[39m(numbers):\n\u001b[0;32m----> 3\u001b[0m         \u001b[38;5;28;01mraise\u001b[39;00m \u001b[38;5;167;01mTypeError\u001b[39;00m(\u001b[38;5;124m'\u001b[39m\u001b[38;5;124mMust supply a conatainer\u001b[39m\u001b[38;5;124m'\u001b[39m)\n\u001b[1;32m      4\u001b[0m     total \u001b[38;5;241m=\u001b[39m \u001b[38;5;28msum\u001b[39m(numbers)\n\u001b[1;32m      5\u001b[0m     result \u001b[38;5;241m=\u001b[39m []\n",
      "\u001b[0;31mTypeError\u001b[0m: Must supply a conatainer"
     ]
    }
   ],
   "source": [
    "it = iter(visits)\n",
    "normalize_defensive(it)"
   ]
  },
  {
   "cell_type": "code",
   "execution_count": null,
   "id": "ffda1961",
   "metadata": {},
   "outputs": [],
   "source": []
  }
 ],
 "metadata": {
  "kernelspec": {
   "display_name": "Python 3 (ipykernel)",
   "language": "python",
   "name": "python3"
  },
  "language_info": {
   "codemirror_mode": {
    "name": "ipython",
    "version": 3
   },
   "file_extension": ".py",
   "mimetype": "text/x-python",
   "name": "python",
   "nbconvert_exporter": "python",
   "pygments_lexer": "ipython3",
   "version": "3.9.12"
  }
 },
 "nbformat": 4,
 "nbformat_minor": 5
}
